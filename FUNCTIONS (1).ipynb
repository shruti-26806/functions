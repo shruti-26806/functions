{
  "nbformat": 4,
  "nbformat_minor": 0,
  "metadata": {
    "colab": {
      "provenance": []
    },
    "kernelspec": {
      "name": "python3",
      "display_name": "Python 3"
    },
    "language_info": {
      "name": "python"
    }
  },
  "cells": [
    {
      "cell_type": "markdown",
      "source": [
        "# **THEORY QUESTIONS**\n",
        "\n",
        "1. What is the difference between a function and a method in Python?\n",
        "**Ans** A function is a block of code that performs specific task. It is defined using the def keyword."
      ],
      "metadata": {
        "id": "xr7KhCYaQrvA"
      }
    },
    {
      "cell_type": "code",
      "execution_count": null,
      "metadata": {
        "colab": {
          "base_uri": "https://localhost:8080/"
        },
        "id": "_PZYRJfoQpVz",
        "outputId": "28d70b96-4f3f-443f-d2c8-ea686b7f8b86"
      },
      "outputs": [
        {
          "output_type": "stream",
          "name": "stdout",
          "text": [
            "Hello, Shruti!\n"
          ]
        }
      ],
      "source": [
        "def greet(name):\n",
        "    return f\"Hello, {name}!\"\n",
        "\n",
        "print(greet(\"Shruti\"))"
      ]
    },
    {
      "cell_type": "markdown",
      "source": [
        "A method is a function that is assoiated with an object. It is called on an object and can access and modify that object's data."
      ],
      "metadata": {
        "id": "sTeK41G0S8mv"
      }
    },
    {
      "cell_type": "code",
      "source": [
        "class Person:\n",
        "    def __init__(self, name):\n",
        "        self.name = name\n",
        "\n",
        "    def greet(self):\n",
        "        return f\"Hello, {self.name}!\"\n",
        "\n",
        "person = Person(\"Shruti\")\n",
        "print(person.greet())"
      ],
      "metadata": {
        "colab": {
          "base_uri": "https://localhost:8080/"
        },
        "id": "hyxwMSlRTaJZ",
        "outputId": "1f1f8f9d-5079-4bdd-b90c-2cd78248d1d5"
      },
      "execution_count": null,
      "outputs": [
        {
          "output_type": "stream",
          "name": "stdout",
          "text": [
            "Hello, Shruti!\n"
          ]
        }
      ]
    },
    {
      "cell_type": "markdown",
      "source": [
        "2. Explain the concept of function arguments and parameters in Python.\n",
        "**Ans** Parameters are the variables listed in a function definition, while arguments are the actual values passed to the function when it is called.\n",
        "There are mainly 4 types of arguments:\n",
        "1. Positional\n",
        "2. Keyword\n",
        "3. Default\n",
        "4. Variable-length"
      ],
      "metadata": {
        "id": "Ln0oT5i9TjKa"
      }
    },
    {
      "cell_type": "code",
      "source": [
        "def greet(name, message):    #'name' is a parameter\n",
        "print(greet(\"Shruti\", \"Hello\"))\n",
        "\n",
        "greet(\"Shruti\")     #\"Shruti\" is an argument"
      ],
      "metadata": {
        "id": "bU2KL7bCVA9H"
      },
      "execution_count": null,
      "outputs": []
    },
    {
      "cell_type": "markdown",
      "source": [
        "3.  What are the different ways to define and call a function in Python?\n",
        "**Ans** Ways to define and call a function in Python:\n",
        "1. Standard Function\n",
        "2. With default parameter\n",
        "3. With *args/kwargs\n",
        "4. Lambda Function\n",
        "5. Nested Function"
      ],
      "metadata": {
        "id": "lXGCVqr9V1O_"
      }
    },
    {
      "cell_type": "markdown",
      "source": [
        "4.  What is the purpose of the `return` statement in a Python function?\n",
        "**Ans** The return statement in a Python function serves two primary purposes:\n",
        "1. Exiting the Function\n",
        "2. Returning a Value\n",
        "\n",
        "#example"
      ],
      "metadata": {
        "id": "vvlgDaM3Wztu"
      }
    },
    {
      "cell_type": "code",
      "source": [
        "def add_numbers(a, b):\n",
        "    sum_result = a + b\n",
        "    return sum_result  # Returns the sum to the caller\n",
        "\n",
        "result = add_numbers(5, 3)\n",
        "print(result)  # Output: 8"
      ],
      "metadata": {
        "id": "dF4ha-XYXdx1"
      },
      "execution_count": null,
      "outputs": []
    },
    {
      "cell_type": "markdown",
      "source": [
        "5. What are iterators in Python and how do they differ from iterables?\n",
        "**Ans** An iterator is an object that can be iterated upon, meaning that you can traverse through all the values. Iterables, on the other hand, provide the data that you want to iterate over.\n"
      ],
      "metadata": {
        "id": "gxehy-ajXjPv"
      }
    },
    {
      "cell_type": "markdown",
      "source": [
        "6. Explain the concept of generators in Python and how they are defined.\n",
        "**Ans** Generators are a simple way to create iterators using functions and the yield keyword instead of returning values."
      ],
      "metadata": {
        "id": "qG-bLSk6Yheb"
      }
    },
    {
      "cell_type": "code",
      "source": [
        "def even_numbers_generator(limit):\n",
        "    for i in range(2, limit + 1, 2):\n",
        "        yield i\n",
        "\n",
        "# Calling the generator function creates an iterator\n",
        "even_nums = even_numbers_generator(10)\n",
        "\n",
        "# Iterating through the generator:\n",
        "for num in even_nums:\n",
        "    print(num)\n",
        "# Output:\n",
        "# 2\n",
        "# 4\n",
        "# 6\n",
        "# 8\n",
        "# 10"
      ],
      "metadata": {
        "id": "-fbq5vmbZLaw"
      },
      "execution_count": null,
      "outputs": []
    },
    {
      "cell_type": "markdown",
      "source": [
        "7.  What are the advantages of using generators over regular functions?\n",
        "**Ans** Unlike a regular function, a generator does not return its results all at once.  it yields its values one by one, each time it is called. This makes it possible to generate an infinite sequence of values, as long as there is sufficient memory to store them."
      ],
      "metadata": {
        "id": "fxKjMjxeZO1K"
      }
    },
    {
      "cell_type": "markdown",
      "source": [
        "8. What is a lambda function in Python and when is it typically used?\n",
        "**Ans** A lambda function in Python is a small, anonymous function defined using the lambda keyword.\n",
        "Lambda functions are typically used for short, simple operations, especially when you need to pass a function as an argument to another function (like map, filter, or sorted)."
      ],
      "metadata": {
        "id": "6s5GbZ4EZoQH"
      }
    },
    {
      "cell_type": "markdown",
      "source": [
        "9. Explain the purpose and usage of the `map()` function in Python.\n",
        "**Ans** The map() function in Python serves the purpose of applying a specified function to each item in an iterable (such as a list, tuple, or set) and returning an iterator that yields the results. This provides a concise and efficient way to transform data within iterables without explicitly writing a for loop."
      ],
      "metadata": {
        "id": "mBJ5Ll5FaHrP"
      }
    },
    {
      "cell_type": "code",
      "source": [
        "numbers = [1, 2, 3, 4, 5]\n",
        "\n",
        "# Using a lambda function with map()\n",
        "squares_map_object = map(lambda x: x**2, numbers)\n",
        "\n",
        "# Convert the map object to a list to see the results\n",
        "squares_list = list(squares_map_object)\n",
        "\n",
        "print(squares_list)"
      ],
      "metadata": {
        "id": "sXE_2AYLan1R"
      },
      "execution_count": null,
      "outputs": []
    },
    {
      "cell_type": "markdown",
      "source": [
        "10.  What is the difference between `map()`, `reduce()`, and `filter()` functions in Python?\n",
        "**Ans** #Map Functions:\n",
        "\n",
        "\n",
        "\n",
        "Definition: The map function applies a given function to all items in an input iterable (like a list) and returns an iterator with the results.\n",
        "\n",
        "Key Points:\n",
        "\n",
        "Transformation: Used to transform each item in an iterable by applying the specified function.\n",
        "Syntax:\n",
        "\n",
        "map(function, iterable)\n",
        "\n",
        "\n",
        "#Reduce Functions:\n",
        "\n",
        "Definition: The reduce function from the functools module applies a given function cumulatively to the items of a sequence, from left to right, to reduce the sequence to a single value.\n",
        "\n",
        "Key Points:\n",
        "\n",
        "Cumulative Operation: It reduces an iterable to a single cumulative value by applying the function cumulatively.\n",
        "Syntax:\n",
        "\n",
        "from functools import reduce\n",
        "\n",
        "reduce(function, iterable)\n",
        "\n",
        "#Filter Functions:\n",
        "\n",
        "Definition: The filter function constructs an iterator from elements of an iterable for which a specified function returns True.\n",
        "\n",
        "Key Points:\n",
        "\n",
        "Selection: Used for filtering elements from an iterable based on a condition defined by the function.\n",
        "Syntax:\n",
        "\n",
        "filter(function, iterable)\n",
        "\n",
        "\n",
        "\n",
        "\n",
        "\n",
        "\n",
        "\n",
        "\n"
      ],
      "metadata": {
        "id": "pxThJvfXat2v"
      }
    },
    {
      "cell_type": "code",
      "source": [],
      "metadata": {
        "id": "cUibnOI-bopV"
      },
      "execution_count": null,
      "outputs": []
    },
    {
      "cell_type": "markdown",
      "source": [
        "##PRACTICAL QUESTIONS:"
      ],
      "metadata": {
        "id": "ONgj52UBdIw1"
      }
    },
    {
      "cell_type": "markdown",
      "source": [
        "1. Write a Python function that takes a list of numbers as input and returns the sum of all even numbers in\n",
        "the list."
      ],
      "metadata": {
        "id": "b3Fgk3_Vdar-"
      }
    },
    {
      "cell_type": "code",
      "source": [
        "my_list = [1, 2, 3, 4, 5, 6, 7, 8, 9, 10]\n",
        "result = sum(num for num in my_list if num % 2 == 0)\n",
        "print(result)"
      ],
      "metadata": {
        "colab": {
          "base_uri": "https://localhost:8080/"
        },
        "id": "GyRIfLyndiGq",
        "outputId": "0eb2dbc4-cc30-4f11-9b5d-c56c5e61e0ad"
      },
      "execution_count": null,
      "outputs": [
        {
          "output_type": "stream",
          "name": "stdout",
          "text": [
            "30\n"
          ]
        }
      ]
    },
    {
      "cell_type": "markdown",
      "source": [
        "2.  Create a Python function that accepts a string and returns the reverse of that string."
      ],
      "metadata": {
        "id": "3NBdtI8KejGB"
      }
    },
    {
      "cell_type": "code",
      "source": [
        "text = \"Shruti\"\n",
        "print(text[::-1])"
      ],
      "metadata": {
        "colab": {
          "base_uri": "https://localhost:8080/"
        },
        "id": "ISyp0Iq8eo-L",
        "outputId": "db906e72-74e0-47f2-d1c0-9c0bd9714112"
      },
      "execution_count": null,
      "outputs": [
        {
          "output_type": "stream",
          "name": "stdout",
          "text": [
            "iturhS\n"
          ]
        }
      ]
    },
    {
      "cell_type": "code",
      "source": [
        "3.  Implement a Python function that takes a list of integers and returns a new list containing the squares of\n",
        "each number."
      ],
      "metadata": {
        "id": "1qE5MxsJe0se"
      },
      "execution_count": null,
      "outputs": []
    },
    {
      "cell_type": "code",
      "source": [
        "my_list = [1, 2, 3, 4, 5]\n",
        "squares = [x**2 for x in my_list]\n",
        "print(squares)"
      ],
      "metadata": {
        "colab": {
          "base_uri": "https://localhost:8080/"
        },
        "id": "74Lj5sQve8Jv",
        "outputId": "260931f6-67fa-41c2-cea7-ebec26c0e8b0"
      },
      "execution_count": null,
      "outputs": [
        {
          "output_type": "stream",
          "name": "stdout",
          "text": [
            "[1, 4, 9, 16, 25]\n"
          ]
        }
      ]
    },
    {
      "cell_type": "markdown",
      "source": [
        "4.  Write a Python function that checks if a given number is prime or not from 1 to 200."
      ],
      "metadata": {
        "id": "vKfwR7QMfNGd"
      }
    },
    {
      "cell_type": "code",
      "source": [
        "for num in range(1, 201):\n",
        "    if num > 1:\n",
        "        for i in range(2, num):\n",
        "            if (num % i) == 0:\n",
        "                break\n",
        "        else:\n",
        "            print(num)"
      ],
      "metadata": {
        "colab": {
          "base_uri": "https://localhost:8080/"
        },
        "id": "LLQ-PXsWfLfo",
        "outputId": "ec13267f-bc6a-4e35-b922-d55a5b91450e"
      },
      "execution_count": null,
      "outputs": [
        {
          "output_type": "stream",
          "name": "stdout",
          "text": [
            "2\n",
            "3\n",
            "5\n",
            "7\n",
            "11\n",
            "13\n",
            "17\n",
            "19\n",
            "23\n",
            "29\n",
            "31\n",
            "37\n",
            "41\n",
            "43\n",
            "47\n",
            "53\n",
            "59\n",
            "61\n",
            "67\n",
            "71\n",
            "73\n",
            "79\n",
            "83\n",
            "89\n",
            "97\n",
            "101\n",
            "103\n",
            "107\n",
            "109\n",
            "113\n",
            "127\n",
            "131\n",
            "137\n",
            "139\n",
            "149\n",
            "151\n",
            "157\n",
            "163\n",
            "167\n",
            "173\n",
            "179\n",
            "181\n",
            "191\n",
            "193\n",
            "197\n",
            "199\n"
          ]
        }
      ]
    },
    {
      "cell_type": "markdown",
      "source": [
        "5. Create an iterator class in Python that generates the Fibonacci sequence up to a specified number of\n",
        "terms."
      ],
      "metadata": {
        "id": "JgM6Vvi6fj12"
      }
    },
    {
      "cell_type": "code",
      "source": [
        "fib = FibonacciIterator(10) #get first 10 Fibonacci numbers\n",
        "for num in fib:\n",
        "    print(num)"
      ],
      "metadata": {
        "colab": {
          "base_uri": "https://localhost:8080/",
          "height": 176
        },
        "id": "SR2UdEgwftHj",
        "outputId": "67a59cb0-e4df-49a0-f0b1-52eb6732cc62"
      },
      "execution_count": null,
      "outputs": [
        {
          "output_type": "error",
          "ename": "NameError",
          "evalue": "name 'FibonacciIterator' is not defined",
          "traceback": [
            "\u001b[0;31m---------------------------------------------------------------------------\u001b[0m",
            "\u001b[0;31mNameError\u001b[0m                                 Traceback (most recent call last)",
            "\u001b[0;32m/tmp/ipython-input-9-1208999990.py\u001b[0m in \u001b[0;36m<cell line: 0>\u001b[0;34m()\u001b[0m\n\u001b[0;32m----> 1\u001b[0;31m \u001b[0mfib\u001b[0m \u001b[0;34m=\u001b[0m \u001b[0mFibonacciIterator\u001b[0m\u001b[0;34m(\u001b[0m\u001b[0;36m10\u001b[0m\u001b[0;34m)\u001b[0m \u001b[0;31m#get first 10 Fibonacci numbers\u001b[0m\u001b[0;34m\u001b[0m\u001b[0;34m\u001b[0m\u001b[0m\n\u001b[0m\u001b[1;32m      2\u001b[0m \u001b[0;32mfor\u001b[0m \u001b[0mnum\u001b[0m \u001b[0;32min\u001b[0m \u001b[0mfib\u001b[0m\u001b[0;34m:\u001b[0m\u001b[0;34m\u001b[0m\u001b[0;34m\u001b[0m\u001b[0m\n\u001b[1;32m      3\u001b[0m     \u001b[0mprint\u001b[0m\u001b[0;34m(\u001b[0m\u001b[0mnum\u001b[0m\u001b[0;34m)\u001b[0m\u001b[0;34m\u001b[0m\u001b[0;34m\u001b[0m\u001b[0m\n",
            "\u001b[0;31mNameError\u001b[0m: name 'FibonacciIterator' is not defined"
          ]
        }
      ]
    },
    {
      "cell_type": "markdown",
      "source": [
        "6. Write a generator function in Python that yields the powers of 2 up to a given exponent."
      ],
      "metadata": {
        "id": "WJyE5vYWh299"
      }
    },
    {
      "cell_type": "code",
      "source": [
        "def powers_of_2(max_exponent):\n",
        "    for exp in range(max_exponent + 1):\n",
        "        yield 2 ** exp\n",
        "\n",
        "        for value in power_of_2(5):\n",
        "        print(value)"
      ],
      "metadata": {
        "colab": {
          "base_uri": "https://localhost:8080/"
        },
        "id": "_gsk57WSisw7",
        "outputId": "8386b2d7-246e-48d8-a57b-f613e44c7cf7"
      },
      "execution_count": null,
      "outputs": [
        {
          "output_type": "stream",
          "name": "stdout",
          "text": [
            "1\n",
            "2\n",
            "4\n",
            "8\n",
            "16\n",
            "32\n"
          ]
        }
      ]
    },
    {
      "cell_type": "markdown",
      "source": [
        "7. Implement a generator function that reads a file line by line and yields each line as a string."
      ],
      "metadata": {
        "id": "Pvt6iGnnnJ2w"
      }
    },
    {
      "cell_type": "code",
      "source": [
        "def read_file_line_by_line(filename):\n",
        "    with open (filename, 'r') as file:\n",
        "        for line in file:\n",
        "            yield line.strip()\n",
        "\n",
        "# Example usage:\n",
        "for line in\n",
        " read_file_line_by_line('example.txt'):\n",
        "    print(line)"
      ],
      "metadata": {
        "colab": {
          "base_uri": "https://localhost:8080/",
          "height": 106
        },
        "id": "dCsrpDMGnQ9U",
        "outputId": "8bdc0d80-40f7-4e92-c980-218908336741"
      },
      "execution_count": null,
      "outputs": [
        {
          "output_type": "error",
          "ename": "SyntaxError",
          "evalue": "invalid syntax (ipython-input-19-1885125789.py, line 7)",
          "traceback": [
            "\u001b[0;36m  File \u001b[0;32m\"/tmp/ipython-input-19-1885125789.py\"\u001b[0;36m, line \u001b[0;32m7\u001b[0m\n\u001b[0;31m    for line in\u001b[0m\n\u001b[0m               ^\u001b[0m\n\u001b[0;31mSyntaxError\u001b[0m\u001b[0;31m:\u001b[0m invalid syntax\n"
          ]
        }
      ]
    },
    {
      "cell_type": "markdown",
      "source": [
        "8. Use a lambda function in Python to sort a list of tuples based on the second element of each tuple."
      ],
      "metadata": {
        "id": "2OzuxrxioByR"
      }
    },
    {
      "cell_type": "code",
      "source": [
        "#list of tuples\n",
        "data = [('apple', 3), ('banana', 1), ('cherry', 2)]\n",
        "\n",
        "# Sort the list based on the second element of each tuple\n",
        "sorted_data = sorted(data, key=lambda x: x[1])\n",
        "\n",
        "print(sorted_data)\n"
      ],
      "metadata": {
        "colab": {
          "base_uri": "https://localhost:8080/"
        },
        "id": "oG5JLRRKoOqx",
        "outputId": "59b8e34c-1ffb-4b3a-c096-1050911234a8"
      },
      "execution_count": null,
      "outputs": [
        {
          "output_type": "stream",
          "name": "stdout",
          "text": [
            "[('banana', 1), ('cherry', 2), ('apple', 3)]\n"
          ]
        }
      ]
    },
    {
      "cell_type": "markdown",
      "source": [
        "9. Write a Python program that uses `map()` to convert a list of temperatures from Celsius to Fahrenheit."
      ],
      "metadata": {
        "id": "WOhqkU8no1Z8"
      }
    },
    {
      "cell_type": "code",
      "source": [
        "#list of temperatures in celsius\n",
        "celsius_temps = [0, 10, 37, 100]\n",
        "def celsius_to_fahrenheit(celsius):\n",
        "    return (celsius * 9/5) + 32\n",
        "fahrenheit_temps = list(map(celsius_to_fahrenheit, celsius_temps))\n",
        "print(fahrenheit_temps)"
      ],
      "metadata": {
        "colab": {
          "base_uri": "https://localhost:8080/"
        },
        "id": "mX5Eb31op6MY",
        "outputId": "3138a835-94d6-4f5f-e70c-9db68b549819"
      },
      "execution_count": null,
      "outputs": [
        {
          "output_type": "stream",
          "name": "stdout",
          "text": [
            "[32.0, 50.0, 98.6, 212.0]\n"
          ]
        }
      ]
    },
    {
      "cell_type": "markdown",
      "source": [
        "10. Create a Python program that uses `filter()` to remove all the vowels from a given string."
      ],
      "metadata": {
        "id": "NewG7GGosCtO"
      }
    },
    {
      "cell_type": "code",
      "source": [
        "def remove_vowels(input_string):\n",
        "    vowels = 'aeiouAEIOU'\n",
        "    return ''.join(filter(lambda x: x not in vowels, input_string))\n",
        "\n",
        "# Example usage:\n",
        "text = \"Hello, World!\"\n",
        "result = remove_vowels(text)\n",
        "print(\"original:\", text)\n",
        "print(\"without vowels:\", result)"
      ],
      "metadata": {
        "colab": {
          "base_uri": "https://localhost:8080/"
        },
        "id": "cKYoLUlnrn0A",
        "outputId": "28223969-c241-4986-f664-30213f224ac1"
      },
      "execution_count": null,
      "outputs": [
        {
          "output_type": "stream",
          "name": "stdout",
          "text": [
            "original: Hello, World!\n",
            "without vowels: Hll, Wrld!\n"
          ]
        }
      ]
    },
    {
      "cell_type": "markdown",
      "source": [
        "11) Imagine an accounting routine used in a book shop. It works on a list with sublists, which look like this:\n",
        "\n",
        "\n",
        "\n",
        "\n",
        "\n",
        "\n",
        "\n",
        "Write a Python program, which returns a list with 2-tuples. Each tuple consists of the order number and the\n",
        "product of the price per item and the quantity. The product should be increased by 10,- € if the value of the\n",
        "order is smaller than 100,00 €.\n",
        "\n",
        "Write a Python program using lambda and map"
      ],
      "metadata": {
        "id": "SgwAvUFRtFRE"
      }
    },
    {
      "cell_type": "code",
      "source": [
        "orders = [ [\"34587\", \"Learning Python, Mark Lutz\", 4, 40.95]],\n",
        "         [ [\"98762\", \"Programming Python, Mark Lutz\", 5, 56.80]]\n",
        "         [ [\"77226\", \"Head First Python, Paul Barry\", 3, 32.95]]\n",
        "         [ [\"88112\", \"Einfuhurung in Python3, Bernd Klein\", 3, 24.99]]\n",
        "\n",
        "           result = list(map(lambda order: (order[0], (order[2]* order[3])(10 if (order[2]* order[3])< 100 else 0)), orders))\n",
        "\n",
        "           print(result)"
      ],
      "metadata": {
        "colab": {
          "base_uri": "https://localhost:8080/",
          "height": 106
        },
        "id": "zmjSOPjKtBxZ",
        "outputId": "efcf4d9d-707c-4e72-fd40-53a098763813"
      },
      "execution_count": null,
      "outputs": [
        {
          "output_type": "error",
          "ename": "IndentationError",
          "evalue": "unexpected indent (ipython-input-32-2024580821.py, line 2)",
          "traceback": [
            "\u001b[0;36m  File \u001b[0;32m\"/tmp/ipython-input-32-2024580821.py\"\u001b[0;36m, line \u001b[0;32m2\u001b[0m\n\u001b[0;31m    [ [\"98762\", \"Programming Python, Mark Lutz\", 5, 56.80]]\u001b[0m\n\u001b[0m    ^\u001b[0m\n\u001b[0;31mIndentationError\u001b[0m\u001b[0;31m:\u001b[0m unexpected indent\n"
          ]
        }
      ]
    }
  ]
}